{
 "cells": [
  {
   "cell_type": "markdown",
   "metadata": {
    "id": "tFwZqvyxw991"
   },
   "source": [
    "# Продолжение решения Задачи 1 \"Изучение критической температуры сверхпроводников\""
   ]
  },
  {
   "cell_type": "markdown",
   "metadata": {
    "id": "ZNUGwea6xHzz"
   },
   "source": [
    "Данные о сверхпроводниках взяты из базы данных сверхпроводящих материалов, собранной Национальным институтом материаловедения Японии NIMS. \n",
    "\n",
    "Данные содержат сведения о **21 263 сверхпроводников**.\n",
    "\n",
    "*   Тренировочный набор - **17010** строк.\n",
    "*   Тестовый набор - **4253** строк.\n",
    "\n",
    "Для каждого сверхпроводника в данных приведены полная химическая формула сверхпроводника, а также 8 основных химических свойств (абсолютное значение, среднее, взвешенное среднее и так далее): атомная масса, энергия ионизации, радиус атома, плотность, удельная теплота плавления, энергия сродства к электрону, теплопроводность, валентность.\n"
   ]
  },
  {
   "cell_type": "markdown",
   "metadata": {
    "id": "zrPvLvvpzFcw"
   },
   "source": [
    "## Считывание данных"
   ]
  },
  {
   "cell_type": "code",
   "execution_count": 7,
   "metadata": {
    "colab": {
     "base_uri": "https://localhost:8080/"
    },
    "id": "Go5znzy6ZMCG",
    "outputId": "95145866-3245-4d3a-b3c9-b737c5b5985d"
   },
   "outputs": [
    {
     "ename": "ModuleNotFoundError",
     "evalue": "No module named 'google'",
     "output_type": "error",
     "traceback": [
      "\u001b[1;31m---------------------------------------------------------------------------\u001b[0m",
      "\u001b[1;31mModuleNotFoundError\u001b[0m                       Traceback (most recent call last)",
      "\u001b[1;32m~\\AppData\\Local\\Temp\\ipykernel_15508\\1050275017.py\u001b[0m in \u001b[0;36m<module>\u001b[1;34m\u001b[0m\n\u001b[1;32m----> 1\u001b[1;33m \u001b[1;32mfrom\u001b[0m \u001b[0mgoogle\u001b[0m\u001b[1;33m.\u001b[0m\u001b[0mcolab\u001b[0m \u001b[1;32mimport\u001b[0m \u001b[0mdrive\u001b[0m\u001b[1;33m\u001b[0m\u001b[1;33m\u001b[0m\u001b[0m\n\u001b[0m\u001b[0;32m      2\u001b[0m \u001b[0mdrive\u001b[0m\u001b[1;33m.\u001b[0m\u001b[0mmount\u001b[0m\u001b[1;33m(\u001b[0m\u001b[1;34m'/content/gdrive'\u001b[0m\u001b[1;33m)\u001b[0m\u001b[1;33m\u001b[0m\u001b[1;33m\u001b[0m\u001b[0m\n",
      "\u001b[1;31mModuleNotFoundError\u001b[0m: No module named 'google'"
     ]
    }
   ],
   "source": [
    "from google.colab import drive\n",
    "drive.mount('/content/gdrive')"
   ]
  },
  {
   "cell_type": "code",
   "execution_count": null,
   "metadata": {
    "colab": {
     "base_uri": "https://localhost:8080/"
    },
    "id": "Vk0wA3ygbCfv",
    "outputId": "b3830b05-ada6-47f3-912d-70c59dcab275"
   },
   "outputs": [
    {
     "name": "stdout",
     "output_type": "stream",
     "text": [
      "/content/gdrive/MyDrive/Я-профи подготовка по машинному обучению/Samsung Kaggle/Суперпроводники\n"
     ]
    }
   ],
   "source": [
    "import os\n",
    "\n",
    "os.chdir(r\"/content/gdrive/MyDrive/Я-профи подготовка по машинному обучению/Samsung Kaggle/Суперпроводники\")\n",
    "print(os.getcwd())"
   ]
  },
  {
   "cell_type": "code",
   "execution_count": 1,
   "metadata": {
    "id": "ujjYU1ObbX4r"
   },
   "outputs": [],
   "source": [
    "# иморитирование всех необходимых библиотек\n",
    "import pandas as pd\n",
    "import seaborn as sns\n",
    "import matplotlib.pyplot as plt"
   ]
  },
  {
   "cell_type": "code",
   "execution_count": 2,
   "metadata": {
    "colab": {
     "base_uri": "https://localhost:8080/"
    },
    "id": "_-oRk0f2bSFc",
    "outputId": "6f7ccac3-f536-45b3-afc3-9c40f6bfc4ec"
   },
   "outputs": [
    {
     "name": "stdout",
     "output_type": "stream",
     "text": [
      "Train dataset shape: (17010, 82)\n",
      "Train_formula dataset shape: (17010, 88)\n"
     ]
    }
   ],
   "source": [
    "# Считываем тренировочные данные\n",
    "train = pd.read_csv(\"train.csv\")\n",
    "formula_train = pd.read_csv(\"formula_train.csv\")\n",
    "\n",
    "print(f\"Train dataset shape: {train.shape}\")\n",
    "print(f\"Train_formula dataset shape: {formula_train.shape}\")"
   ]
  },
  {
   "cell_type": "code",
   "execution_count": 3,
   "metadata": {
    "colab": {
     "base_uri": "https://localhost:8080/"
    },
    "id": "cdy4sxmFr8Ai",
    "outputId": "9ad5c807-3d7b-4148-912c-e42091f2a64b"
   },
   "outputs": [
    {
     "name": "stdout",
     "output_type": "stream",
     "text": [
      "Test dataset shape: (4253, 81)\n",
      "Test_formula dataset shape: (4253, 87)\n"
     ]
    }
   ],
   "source": [
    "# Считываем тестовые данные\n",
    "test = pd.read_csv(\"test.csv\")\n",
    "formula_test = pd.read_csv(\"formula_test.csv\")\n",
    "\n",
    "print(f\"Test dataset shape: {test.shape}\")\n",
    "print(f\"Test_formula dataset shape: {formula_test.shape}\")"
   ]
  },
  {
   "cell_type": "code",
   "execution_count": null,
   "metadata": {
    "colab": {
     "base_uri": "https://localhost:8080/",
     "height": 1000
    },
    "id": "xMQPbSVYblJs",
    "outputId": "1b733e70-fa55-4760-cfea-584d085f23e6"
   },
   "outputs": [],
   "source": [
    "%%time\n",
    "\n",
    "plt.figure(figsize = (30,30))\n",
    "\n",
    "sns.heatmap(train.corr(), cmap=\"YlGnBu\", annot=True)\n",
    "\n",
    "results_path = 'results.png'\n",
    "plt.savefig(results_path)"
   ]
  },
  {
   "cell_type": "markdown",
   "metadata": {
    "id": "PB5lSwCg0mjX"
   },
   "source": [
    "## Предобработка данных"
   ]
  },
  {
   "cell_type": "markdown",
   "metadata": {
    "id": "EobzcVJ91saY"
   },
   "source": [
    "### **Тренировочные данные.**"
   ]
  },
  {
   "cell_type": "markdown",
   "metadata": {
    "id": "vP3zuSo20p_6"
   },
   "source": [
    "В данной задаче у нас имеются два датасета для тренировки и для теста, для удобства сформируем один DataFrame.\n",
    "\n",
    "Так как колонка с целевой переменной имеется в обоих датасетах, удалим её из одного, чтобы не дублировать."
   ]
  },
  {
   "cell_type": "code",
   "execution_count": 4,
   "metadata": {
    "colab": {
     "base_uri": "https://localhost:8080/"
    },
    "id": "2uT2iwvF0y5y",
    "outputId": "4ebf62af-845e-4c90-cb64-00b3d5babf26"
   },
   "outputs": [
    {
     "name": "stdout",
     "output_type": "stream",
     "text": [
      "Full Train dataset shape: (17010, 169)\n"
     ]
    }
   ],
   "source": [
    "formula_train = formula_train.drop(columns=['critical_temp'])\n",
    "\n",
    "train_full = pd.concat([train, formula_train], axis=1)\n",
    "\n",
    "print(f\"Full Train dataset shape: {train_full.shape}\")"
   ]
  },
  {
   "cell_type": "code",
   "execution_count": 5,
   "metadata": {
    "id": "5rTYMBQWKHnT"
   },
   "outputs": [],
   "source": [
    "# Удалим из данных ненужную колонку 'material'\n",
    "train_full.drop(columns=['material'], inplace=True)"
   ]
  },
  {
   "cell_type": "code",
   "execution_count": 6,
   "metadata": {
    "colab": {
     "base_uri": "https://localhost:8080/"
    },
    "id": "1U1X5gXCKXza",
    "outputId": "af3eff41-5bb6-47ad-aaaa-dd6cd7eb1846"
   },
   "outputs": [
    {
     "name": "stdout",
     "output_type": "stream",
     "text": [
      "Features shape: (17010, 167)\n",
      "Target shape: (17010,)\n"
     ]
    }
   ],
   "source": [
    "# Выделим из набора данных вектор признаков и вектор ответов\n",
    "X = train_full.drop(columns=['critical_temp'])\n",
    "y = train_full['critical_temp']\n",
    "\n",
    "print(f\"Features shape: {X.shape}\")\n",
    "print(f\"Target shape: {y.shape}\")"
   ]
  },
  {
   "cell_type": "markdown",
   "metadata": {
    "id": "xoEE7tfWLCzw"
   },
   "source": [
    "### **Тестовые данные.**\n",
    "\n",
    "Обработаем аналогичным образом тестовые данные."
   ]
  },
  {
   "cell_type": "code",
   "execution_count": 7,
   "metadata": {
    "colab": {
     "base_uri": "https://localhost:8080/"
    },
    "id": "KLs4fBqNLHZh",
    "outputId": "bb8921c4-96a4-4af0-a243-f70278dbf3f9"
   },
   "outputs": [
    {
     "name": "stdout",
     "output_type": "stream",
     "text": [
      "Full Test dataset shape: (4253, 168)\n"
     ]
    }
   ],
   "source": [
    "test_full = pd.concat([test, formula_test], axis=1)\n",
    "\n",
    "print(f\"Full Test dataset shape: {test_full.shape}\")"
   ]
  },
  {
   "cell_type": "code",
   "execution_count": 8,
   "metadata": {
    "id": "1Ux4Axh6LjxA"
   },
   "outputs": [],
   "source": [
    "# Удалим из данных ненужную колонку 'material'\n",
    "test_full.drop(columns=['material'], inplace=True)"
   ]
  },
  {
   "cell_type": "code",
   "execution_count": 9,
   "metadata": {
    "colab": {
     "base_uri": "https://localhost:8080/"
    },
    "id": "B707AlxpkZRX",
    "outputId": "b3bcb489-cd3b-4897-bd74-582a365562e0"
   },
   "outputs": [
    {
     "data": {
      "text/plain": [
       "167"
      ]
     },
     "execution_count": 9,
     "metadata": {},
     "output_type": "execute_result"
    }
   ],
   "source": [
    "len(set(test_full.columns) & set(train_full.columns))"
   ]
  },
  {
   "cell_type": "code",
   "execution_count": null,
   "metadata": {
    "colab": {
     "base_uri": "https://localhost:8080/",
     "height": 300
    },
    "id": "E-SRmwzAPJbQ",
    "outputId": "56a6d529-bbfd-4d58-a999-1c105fdf49e3"
   },
   "outputs": [
    {
     "data": {
      "text/html": [
       "\n",
       "  <div id=\"df-9d417a94-b351-415f-9053-c508d2ec2fef\">\n",
       "    <div class=\"colab-df-container\">\n",
       "      <div>\n",
       "<style scoped>\n",
       "    .dataframe tbody tr th:only-of-type {\n",
       "        vertical-align: middle;\n",
       "    }\n",
       "\n",
       "    .dataframe tbody tr th {\n",
       "        vertical-align: top;\n",
       "    }\n",
       "\n",
       "    .dataframe thead th {\n",
       "        text-align: right;\n",
       "    }\n",
       "</style>\n",
       "<table border=\"1\" class=\"dataframe\">\n",
       "  <thead>\n",
       "    <tr style=\"text-align: right;\">\n",
       "      <th></th>\n",
       "      <th>number_of_elements</th>\n",
       "      <th>mean_atomic_mass</th>\n",
       "      <th>wtd_mean_atomic_mass</th>\n",
       "      <th>gmean_atomic_mass</th>\n",
       "      <th>wtd_gmean_atomic_mass</th>\n",
       "      <th>entropy_atomic_mass</th>\n",
       "      <th>wtd_entropy_atomic_mass</th>\n",
       "      <th>range_atomic_mass</th>\n",
       "      <th>wtd_range_atomic_mass</th>\n",
       "      <th>std_atomic_mass</th>\n",
       "      <th>...</th>\n",
       "      <th>mean_Valence</th>\n",
       "      <th>wtd_mean_Valence</th>\n",
       "      <th>gmean_Valence</th>\n",
       "      <th>wtd_gmean_Valence</th>\n",
       "      <th>entropy_Valence</th>\n",
       "      <th>wtd_entropy_Valence</th>\n",
       "      <th>range_Valence</th>\n",
       "      <th>wtd_range_Valence</th>\n",
       "      <th>std_Valence</th>\n",
       "      <th>wtd_std_Valence</th>\n",
       "    </tr>\n",
       "  </thead>\n",
       "  <tbody>\n",
       "    <tr>\n",
       "      <th>0</th>\n",
       "      <td>5</td>\n",
       "      <td>92.729214</td>\n",
       "      <td>61.051113</td>\n",
       "      <td>73.132787</td>\n",
       "      <td>37.513930</td>\n",
       "      <td>1.449309</td>\n",
       "      <td>1.146919</td>\n",
       "      <td>122.90607</td>\n",
       "      <td>35.741099</td>\n",
       "      <td>47.094633</td>\n",
       "      <td>...</td>\n",
       "      <td>2.00</td>\n",
       "      <td>2.200000</td>\n",
       "      <td>1.888175</td>\n",
       "      <td>2.124829</td>\n",
       "      <td>1.557113</td>\n",
       "      <td>1.053346</td>\n",
       "      <td>2</td>\n",
       "      <td>1.114286</td>\n",
       "      <td>0.632456</td>\n",
       "      <td>0.550325</td>\n",
       "    </tr>\n",
       "    <tr>\n",
       "      <th>1</th>\n",
       "      <td>4</td>\n",
       "      <td>64.632217</td>\n",
       "      <td>55.790060</td>\n",
       "      <td>48.775792</td>\n",
       "      <td>35.178830</td>\n",
       "      <td>1.139875</td>\n",
       "      <td>0.931491</td>\n",
       "      <td>122.90607</td>\n",
       "      <td>35.851917</td>\n",
       "      <td>46.059083</td>\n",
       "      <td>...</td>\n",
       "      <td>2.25</td>\n",
       "      <td>2.264286</td>\n",
       "      <td>2.213364</td>\n",
       "      <td>2.226222</td>\n",
       "      <td>1.368922</td>\n",
       "      <td>1.048834</td>\n",
       "      <td>1</td>\n",
       "      <td>1.100000</td>\n",
       "      <td>0.433013</td>\n",
       "      <td>0.440952</td>\n",
       "    </tr>\n",
       "    <tr>\n",
       "      <th>2</th>\n",
       "      <td>4</td>\n",
       "      <td>76.444563</td>\n",
       "      <td>65.834647</td>\n",
       "      <td>59.356672</td>\n",
       "      <td>48.955994</td>\n",
       "      <td>1.199541</td>\n",
       "      <td>1.241867</td>\n",
       "      <td>121.32760</td>\n",
       "      <td>22.132267</td>\n",
       "      <td>43.823354</td>\n",
       "      <td>...</td>\n",
       "      <td>2.25</td>\n",
       "      <td>2.133333</td>\n",
       "      <td>2.213364</td>\n",
       "      <td>2.111100</td>\n",
       "      <td>1.368922</td>\n",
       "      <td>1.354710</td>\n",
       "      <td>1</td>\n",
       "      <td>0.266667</td>\n",
       "      <td>0.433013</td>\n",
       "      <td>0.339935</td>\n",
       "    </tr>\n",
       "    <tr>\n",
       "      <th>3</th>\n",
       "      <td>4</td>\n",
       "      <td>96.032850</td>\n",
       "      <td>77.279467</td>\n",
       "      <td>69.515930</td>\n",
       "      <td>53.611120</td>\n",
       "      <td>1.159784</td>\n",
       "      <td>1.267452</td>\n",
       "      <td>151.25960</td>\n",
       "      <td>22.543367</td>\n",
       "      <td>59.663892</td>\n",
       "      <td>...</td>\n",
       "      <td>2.25</td>\n",
       "      <td>2.166667</td>\n",
       "      <td>2.213364</td>\n",
       "      <td>2.139826</td>\n",
       "      <td>1.368922</td>\n",
       "      <td>1.351681</td>\n",
       "      <td>1</td>\n",
       "      <td>0.333333</td>\n",
       "      <td>0.433013</td>\n",
       "      <td>0.372678</td>\n",
       "    </tr>\n",
       "    <tr>\n",
       "      <th>4</th>\n",
       "      <td>4</td>\n",
       "      <td>96.451652</td>\n",
       "      <td>75.978308</td>\n",
       "      <td>69.689342</td>\n",
       "      <td>53.146925</td>\n",
       "      <td>1.158346</td>\n",
       "      <td>1.259726</td>\n",
       "      <td>152.93481</td>\n",
       "      <td>24.421050</td>\n",
       "      <td>60.166149</td>\n",
       "      <td>...</td>\n",
       "      <td>2.25</td>\n",
       "      <td>2.116667</td>\n",
       "      <td>2.213364</td>\n",
       "      <td>2.096882</td>\n",
       "      <td>1.368922</td>\n",
       "      <td>1.350047</td>\n",
       "      <td>1</td>\n",
       "      <td>0.316667</td>\n",
       "      <td>0.433013</td>\n",
       "      <td>0.321023</td>\n",
       "    </tr>\n",
       "  </tbody>\n",
       "</table>\n",
       "<p>5 rows × 81 columns</p>\n",
       "</div>\n",
       "      <button class=\"colab-df-convert\" onclick=\"convertToInteractive('df-9d417a94-b351-415f-9053-c508d2ec2fef')\"\n",
       "              title=\"Convert this dataframe to an interactive table.\"\n",
       "              style=\"display:none;\">\n",
       "        \n",
       "  <svg xmlns=\"http://www.w3.org/2000/svg\" height=\"24px\"viewBox=\"0 0 24 24\"\n",
       "       width=\"24px\">\n",
       "    <path d=\"M0 0h24v24H0V0z\" fill=\"none\"/>\n",
       "    <path d=\"M18.56 5.44l.94 2.06.94-2.06 2.06-.94-2.06-.94-.94-2.06-.94 2.06-2.06.94zm-11 1L8.5 8.5l.94-2.06 2.06-.94-2.06-.94L8.5 2.5l-.94 2.06-2.06.94zm10 10l.94 2.06.94-2.06 2.06-.94-2.06-.94-.94-2.06-.94 2.06-2.06.94z\"/><path d=\"M17.41 7.96l-1.37-1.37c-.4-.4-.92-.59-1.43-.59-.52 0-1.04.2-1.43.59L10.3 9.45l-7.72 7.72c-.78.78-.78 2.05 0 2.83L4 21.41c.39.39.9.59 1.41.59.51 0 1.02-.2 1.41-.59l7.78-7.78 2.81-2.81c.8-.78.8-2.07 0-2.86zM5.41 20L4 18.59l7.72-7.72 1.47 1.35L5.41 20z\"/>\n",
       "  </svg>\n",
       "      </button>\n",
       "      \n",
       "  <style>\n",
       "    .colab-df-container {\n",
       "      display:flex;\n",
       "      flex-wrap:wrap;\n",
       "      gap: 12px;\n",
       "    }\n",
       "\n",
       "    .colab-df-convert {\n",
       "      background-color: #E8F0FE;\n",
       "      border: none;\n",
       "      border-radius: 50%;\n",
       "      cursor: pointer;\n",
       "      display: none;\n",
       "      fill: #1967D2;\n",
       "      height: 32px;\n",
       "      padding: 0 0 0 0;\n",
       "      width: 32px;\n",
       "    }\n",
       "\n",
       "    .colab-df-convert:hover {\n",
       "      background-color: #E2EBFA;\n",
       "      box-shadow: 0px 1px 2px rgba(60, 64, 67, 0.3), 0px 1px 3px 1px rgba(60, 64, 67, 0.15);\n",
       "      fill: #174EA6;\n",
       "    }\n",
       "\n",
       "    [theme=dark] .colab-df-convert {\n",
       "      background-color: #3B4455;\n",
       "      fill: #D2E3FC;\n",
       "    }\n",
       "\n",
       "    [theme=dark] .colab-df-convert:hover {\n",
       "      background-color: #434B5C;\n",
       "      box-shadow: 0px 1px 3px 1px rgba(0, 0, 0, 0.15);\n",
       "      filter: drop-shadow(0px 1px 2px rgba(0, 0, 0, 0.3));\n",
       "      fill: #FFFFFF;\n",
       "    }\n",
       "  </style>\n",
       "\n",
       "      <script>\n",
       "        const buttonEl =\n",
       "          document.querySelector('#df-9d417a94-b351-415f-9053-c508d2ec2fef button.colab-df-convert');\n",
       "        buttonEl.style.display =\n",
       "          google.colab.kernel.accessAllowed ? 'block' : 'none';\n",
       "\n",
       "        async function convertToInteractive(key) {\n",
       "          const element = document.querySelector('#df-9d417a94-b351-415f-9053-c508d2ec2fef');\n",
       "          const dataTable =\n",
       "            await google.colab.kernel.invokeFunction('convertToInteractive',\n",
       "                                                     [key], {});\n",
       "          if (!dataTable) return;\n",
       "\n",
       "          const docLinkHtml = 'Like what you see? Visit the ' +\n",
       "            '<a target=\"_blank\" href=https://colab.research.google.com/notebooks/data_table.ipynb>data table notebook</a>'\n",
       "            + ' to learn more about interactive tables.';\n",
       "          element.innerHTML = '';\n",
       "          dataTable['output_type'] = 'display_data';\n",
       "          await google.colab.output.renderOutput(dataTable, element);\n",
       "          const docLink = document.createElement('div');\n",
       "          docLink.innerHTML = docLinkHtml;\n",
       "          element.appendChild(docLink);\n",
       "        }\n",
       "      </script>\n",
       "    </div>\n",
       "  </div>\n",
       "  "
      ],
      "text/plain": [
       "   number_of_elements  mean_atomic_mass  wtd_mean_atomic_mass  \\\n",
       "0                   5         92.729214             61.051113   \n",
       "1                   4         64.632217             55.790060   \n",
       "2                   4         76.444563             65.834647   \n",
       "3                   4         96.032850             77.279467   \n",
       "4                   4         96.451652             75.978308   \n",
       "\n",
       "   gmean_atomic_mass  wtd_gmean_atomic_mass  entropy_atomic_mass  \\\n",
       "0          73.132787              37.513930             1.449309   \n",
       "1          48.775792              35.178830             1.139875   \n",
       "2          59.356672              48.955994             1.199541   \n",
       "3          69.515930              53.611120             1.159784   \n",
       "4          69.689342              53.146925             1.158346   \n",
       "\n",
       "   wtd_entropy_atomic_mass  range_atomic_mass  wtd_range_atomic_mass  \\\n",
       "0                 1.146919          122.90607              35.741099   \n",
       "1                 0.931491          122.90607              35.851917   \n",
       "2                 1.241867          121.32760              22.132267   \n",
       "3                 1.267452          151.25960              22.543367   \n",
       "4                 1.259726          152.93481              24.421050   \n",
       "\n",
       "   std_atomic_mass  ...  mean_Valence  wtd_mean_Valence  gmean_Valence  \\\n",
       "0        47.094633  ...          2.00          2.200000       1.888175   \n",
       "1        46.059083  ...          2.25          2.264286       2.213364   \n",
       "2        43.823354  ...          2.25          2.133333       2.213364   \n",
       "3        59.663892  ...          2.25          2.166667       2.213364   \n",
       "4        60.166149  ...          2.25          2.116667       2.213364   \n",
       "\n",
       "   wtd_gmean_Valence  entropy_Valence  wtd_entropy_Valence  range_Valence  \\\n",
       "0           2.124829         1.557113             1.053346              2   \n",
       "1           2.226222         1.368922             1.048834              1   \n",
       "2           2.111100         1.368922             1.354710              1   \n",
       "3           2.139826         1.368922             1.351681              1   \n",
       "4           2.096882         1.368922             1.350047              1   \n",
       "\n",
       "   wtd_range_Valence  std_Valence  wtd_std_Valence  \n",
       "0           1.114286     0.632456         0.550325  \n",
       "1           1.100000     0.433013         0.440952  \n",
       "2           0.266667     0.433013         0.339935  \n",
       "3           0.333333     0.433013         0.372678  \n",
       "4           0.316667     0.433013         0.321023  \n",
       "\n",
       "[5 rows x 81 columns]"
      ]
     },
     "execution_count": 13,
     "metadata": {},
     "output_type": "execute_result"
    }
   ],
   "source": [
    "test.head()"
   ]
  },
  {
   "cell_type": "markdown",
   "metadata": {
    "id": "lCpEpkVgwkLL"
   },
   "source": [
    "### Масштабирование данных"
   ]
  },
  {
   "cell_type": "markdown",
   "metadata": {
    "id": "noIxq3Z7H1l5"
   },
   "source": [
    "**Масштабирование признаков**\n",
    "\n",
    "Масштабированием называется общий процесс изменения диапазона признака. Это необходимый шаг, потому что признаки измеряются в разных единицах, а значит покрывают разные диапазоны. \n",
    "\n",
    "*Например, столбцы возраста и месячной зарплаты будут иметь совершенно разный диапазон.*\n",
    "\n",
    "Это сильно искажает результаты таких алгоритмов, как *метод опорных векторов* и *метод k-ближайших соседей*, которые учитывают расстояния между измерениями. А масштабирование позволяет этого избежать. И хотя методы вроде *линейной регрессии* и *«случайного леса»* не требует масштабирования признаков, лучше не пренебрегать этим этапом при сравнении нескольких алгоритмов."
   ]
  },
  {
   "cell_type": "markdown",
   "metadata": {
    "id": "GwdBu51EH4wY"
   },
   "source": [
    "**Существует два распространенных способа масштабирования:**\n",
    "\n",
    "1. **Нормализация**\n",
    "\n",
    "В данном случае все значения будут находиться в диапазоне от 0 до 1. Дискретные бинарные значения определяются как 0 и 1. \n",
    "\n",
    "Расчёт нового значения происходит по формуле:\n",
    "\n",
    "$X_{norm} = \\frac{X-X_{min}}{X_{max}-X_{min}}$\n",
    "\n",
    "\n",
    "2. **Стандартизация**\n",
    "\n",
    "Масштабирует значения с учетом стандартного отклонения. Если стандартное отклонение функций другое, их диапазон также будет отличаться друг от друга. Это снижает влияние выбросов в элементах. В следующей формуле стандартизации среднее значение показано как $μ$, а стандартное отклонение показано как $σ$.\n",
    "\n",
    "$X_{std} = \\frac{X-μ}{σ}$\n",
    "\n",
    "Стандартизация приводит все исходные значения набора данных, независимо от их начальных распределений и единиц измерения, к набору значений из распределения с **нулевым средним значением** и **единичным стандартным отклонением**. "
   ]
  },
  {
   "cell_type": "markdown",
   "metadata": {
    "id": "mCZ8JlUbH5k-"
   },
   "source": [
    "Пакет `sklearn.preprocessing` содержит в себе множество различных функции предобработки данных, в том числе функции, позволяющие выполнять масштабирование признаков:\n",
    "\n",
    "- **StandardScaler()** - класс для стандартизации\n",
    "- **MinMaxScaler()** - класс для нормализации"
   ]
  },
  {
   "cell_type": "code",
   "execution_count": null,
   "metadata": {
    "colab": {
     "base_uri": "https://localhost:8080/"
    },
    "id": "3ESkv71YvnlK",
    "outputId": "4d16b4ab-19c5-4878-fb45-b6d3e6314d66"
   },
   "outputs": [
    {
     "name": "stdout",
     "output_type": "stream",
     "text": [
      "Features shape: (17010, 81)\n",
      "Target shape: (17010,)\n"
     ]
    }
   ],
   "source": [
    "# Выделим из набора данных вектор признаков и вектор ответов\n",
    "X = train.drop(columns=['critical_temp'])\n",
    "y = train['critical_temp']\n",
    "\n",
    "print(f\"Features shape: {X.shape}\")\n",
    "print(f\"Target shape: {y.shape}\")"
   ]
  },
  {
   "cell_type": "code",
   "execution_count": null,
   "metadata": {
    "colab": {
     "base_uri": "https://localhost:8080/"
    },
    "id": "Lxqp63kjk_0q",
    "outputId": "f429d7c2-b7c3-4c8a-8520-304341b032ad"
   },
   "outputs": [
    {
     "data": {
      "text/plain": [
       "(17010, 81)"
      ]
     },
     "execution_count": 15,
     "metadata": {},
     "output_type": "execute_result"
    }
   ],
   "source": [
    "X.shape"
   ]
  },
  {
   "cell_type": "code",
   "execution_count": null,
   "metadata": {
    "id": "iDRy626Vwx5N"
   },
   "outputs": [],
   "source": [
    "from sklearn.preprocessing import MinMaxScaler, StandardScaler\n",
    "\n",
    "std = StandardScaler()\n",
    "X_std = std.fit_transform(X)\n",
    "# std.fit(X)\n",
    "# X_std = std.transform(X)\n",
    "\n",
    "mmsc = MinMaxScaler()\n",
    "X_norm = mmsc.fit_transform(X)"
   ]
  },
  {
   "cell_type": "markdown",
   "metadata": {
    "id": "nnBGeY9YLnIl"
   },
   "source": [
    "## Обучение модели"
   ]
  },
  {
   "cell_type": "markdown",
   "metadata": {
    "id": "7NY2TBsqLtdp"
   },
   "source": [
    "В данном примере мы решаем задачу регрессии и для её решения воспользуемся алгоритмом ***Линейной регрессии***."
   ]
  },
  {
   "cell_type": "code",
   "execution_count": null,
   "metadata": {
    "id": "JaJi4G4AL8Np"
   },
   "outputs": [],
   "source": [
    "# импортируем необходмимые библиотеки\n",
    "from sklearn.linear_model import LinearRegression\n",
    "from sklearn.metrics import mean_absolute_error, mean_squared_error, r2_score"
   ]
  },
  {
   "cell_type": "markdown",
   "metadata": {
    "id": "qwBhgj0RNlVb"
   },
   "source": [
    "В нашем наборе данных **167** различных признаков, значит уравнение линейной регрессии будет выглядеть следующим образом в общем виде:\n",
    "\n",
    "$y = w_0 + w_1*x_1 + w_2*x_2 + ... + w_{167}*x_{167}$\n",
    "\n",
    "И задача линейной регрессии сводится к рассчёту коэффицентов (весов $w_i$) при признаках $x_i$."
   ]
  },
  {
   "cell_type": "code",
   "execution_count": null,
   "metadata": {
    "colab": {
     "base_uri": "https://localhost:8080/"
    },
    "id": "b92I5keQxESl",
    "outputId": "6b0d0297-e8a6-48c1-d459-dfa54a2aed3b"
   },
   "outputs": [
    {
     "name": "stdout",
     "output_type": "stream",
     "text": [
      "Train dataset size: (14458, 81), (14458,)\n",
      "Train dataset size: (2552, 81), (2552,)\n"
     ]
    }
   ],
   "source": [
    "from sklearn.model_selection import train_test_split\n",
    "\n",
    "X_train, X_test, y_train, y_test = train_test_split(X_std, y, test_size=0.15, random_state=42)\n",
    "\n",
    "print(f'Train dataset size: {X_train.shape}, {y_train.shape}')\n",
    "print(f'Train dataset size: {X_test.shape}, {y_test.shape}')"
   ]
  },
  {
   "cell_type": "code",
   "execution_count": null,
   "metadata": {
    "colab": {
     "base_uri": "https://localhost:8080/"
    },
    "id": "mtVHVAWbv_0E",
    "outputId": "92984f30-fdde-4bd0-b9ce-aa0a9bd7c3b4"
   },
   "outputs": [
    {
     "name": "stdout",
     "output_type": "stream",
     "text": [
      "Train dataset size: (14458, 81), (14458,)\n",
      "Train dataset size: (2552, 81), (2552,)\n",
      "Mean Absolute Error: 13.294945687545471\n",
      "Mean Squared Error: 307.7301748653557\n",
      "r2_score: 0.7389481688839086\n"
     ]
    }
   ],
   "source": [
    "from sklearn.model_selection import train_test_split\n",
    "\n",
    "X_train, X_test, y_train, y_test = train_test_split(X_std, y, test_size=0.15, random_state=42)\n",
    "\n",
    "print(f'Train dataset size: {X_train.shape}, {y_train.shape}')\n",
    "print(f'Train dataset size: {X_test.shape}, {y_test.shape}')\n",
    "\n",
    "# Создадим модель линейной регрессии\n",
    "model = LinearRegression()\n",
    "\n",
    "# Обучим линейную регрессию на тренировочном стандартизированном наборе данных \n",
    "# На этапе обучения алгоритм рассчитывает веса признаков и строит линейное уравнение регрессии \n",
    "model.fit(X, y)\n",
    "\n",
    "y_pred = model.predict(X)\n",
    "\n",
    "print('Mean Absolute Error:', mean_absolute_error(y, y_pred))\n",
    "print('Mean Squared Error:', mean_squared_error(y, y_pred))\n",
    "print('r2_score:', r2_score(y, y_pred))"
   ]
  },
  {
   "cell_type": "code",
   "execution_count": null,
   "metadata": {
    "id": "TkTLU9JUgahB"
   },
   "outputs": [],
   "source": [
    "# Создадим массив названия признаков\n",
    "features = X.columns"
   ]
  },
  {
   "cell_type": "code",
   "execution_count": null,
   "metadata": {
    "colab": {
     "base_uri": "https://localhost:8080/",
     "height": 424
    },
    "id": "36hK_qtBgi0a",
    "outputId": "e5e96a45-9fa7-46ba-99fb-239082b6a9cc"
   },
   "outputs": [
    {
     "data": {
      "text/html": [
       "\n",
       "  <div id=\"df-2b52b4f7-8695-4c56-89bc-4b7920731bfd\">\n",
       "    <div class=\"colab-df-container\">\n",
       "      <div>\n",
       "<style scoped>\n",
       "    .dataframe tbody tr th:only-of-type {\n",
       "        vertical-align: middle;\n",
       "    }\n",
       "\n",
       "    .dataframe tbody tr th {\n",
       "        vertical-align: top;\n",
       "    }\n",
       "\n",
       "    .dataframe thead th {\n",
       "        text-align: right;\n",
       "    }\n",
       "</style>\n",
       "<table border=\"1\" class=\"dataframe\">\n",
       "  <thead>\n",
       "    <tr style=\"text-align: right;\">\n",
       "      <th></th>\n",
       "      <th>Coefficient</th>\n",
       "      <th>features</th>\n",
       "    </tr>\n",
       "  </thead>\n",
       "  <tbody>\n",
       "    <tr>\n",
       "      <th>15</th>\n",
       "      <td>-115.737788</td>\n",
       "      <td>entropy_fie</td>\n",
       "    </tr>\n",
       "    <tr>\n",
       "      <th>76</th>\n",
       "      <td>-72.628918</td>\n",
       "      <td>wtd_entropy_Valence</td>\n",
       "    </tr>\n",
       "    <tr>\n",
       "      <th>5</th>\n",
       "      <td>-34.236296</td>\n",
       "      <td>entropy_atomic_mass</td>\n",
       "    </tr>\n",
       "    <tr>\n",
       "      <th>74</th>\n",
       "      <td>-29.545704</td>\n",
       "      <td>wtd_gmean_Valence</td>\n",
       "    </tr>\n",
       "    <tr>\n",
       "      <th>80</th>\n",
       "      <td>-26.456219</td>\n",
       "      <td>wtd_std_Valence</td>\n",
       "    </tr>\n",
       "    <tr>\n",
       "      <th>...</th>\n",
       "      <td>...</td>\n",
       "      <td>...</td>\n",
       "    </tr>\n",
       "    <tr>\n",
       "      <th>72</th>\n",
       "      <td>25.170008</td>\n",
       "      <td>wtd_mean_Valence</td>\n",
       "    </tr>\n",
       "    <tr>\n",
       "      <th>16</th>\n",
       "      <td>45.237762</td>\n",
       "      <td>wtd_entropy_fie</td>\n",
       "    </tr>\n",
       "    <tr>\n",
       "      <th>26</th>\n",
       "      <td>50.378731</td>\n",
       "      <td>wtd_entropy_atomic_radius</td>\n",
       "    </tr>\n",
       "    <tr>\n",
       "      <th>25</th>\n",
       "      <td>63.366952</td>\n",
       "      <td>entropy_atomic_radius</td>\n",
       "    </tr>\n",
       "    <tr>\n",
       "      <th>75</th>\n",
       "      <td>80.820792</td>\n",
       "      <td>entropy_Valence</td>\n",
       "    </tr>\n",
       "  </tbody>\n",
       "</table>\n",
       "<p>81 rows × 2 columns</p>\n",
       "</div>\n",
       "      <button class=\"colab-df-convert\" onclick=\"convertToInteractive('df-2b52b4f7-8695-4c56-89bc-4b7920731bfd')\"\n",
       "              title=\"Convert this dataframe to an interactive table.\"\n",
       "              style=\"display:none;\">\n",
       "        \n",
       "  <svg xmlns=\"http://www.w3.org/2000/svg\" height=\"24px\"viewBox=\"0 0 24 24\"\n",
       "       width=\"24px\">\n",
       "    <path d=\"M0 0h24v24H0V0z\" fill=\"none\"/>\n",
       "    <path d=\"M18.56 5.44l.94 2.06.94-2.06 2.06-.94-2.06-.94-.94-2.06-.94 2.06-2.06.94zm-11 1L8.5 8.5l.94-2.06 2.06-.94-2.06-.94L8.5 2.5l-.94 2.06-2.06.94zm10 10l.94 2.06.94-2.06 2.06-.94-2.06-.94-.94-2.06-.94 2.06-2.06.94z\"/><path d=\"M17.41 7.96l-1.37-1.37c-.4-.4-.92-.59-1.43-.59-.52 0-1.04.2-1.43.59L10.3 9.45l-7.72 7.72c-.78.78-.78 2.05 0 2.83L4 21.41c.39.39.9.59 1.41.59.51 0 1.02-.2 1.41-.59l7.78-7.78 2.81-2.81c.8-.78.8-2.07 0-2.86zM5.41 20L4 18.59l7.72-7.72 1.47 1.35L5.41 20z\"/>\n",
       "  </svg>\n",
       "      </button>\n",
       "      \n",
       "  <style>\n",
       "    .colab-df-container {\n",
       "      display:flex;\n",
       "      flex-wrap:wrap;\n",
       "      gap: 12px;\n",
       "    }\n",
       "\n",
       "    .colab-df-convert {\n",
       "      background-color: #E8F0FE;\n",
       "      border: none;\n",
       "      border-radius: 50%;\n",
       "      cursor: pointer;\n",
       "      display: none;\n",
       "      fill: #1967D2;\n",
       "      height: 32px;\n",
       "      padding: 0 0 0 0;\n",
       "      width: 32px;\n",
       "    }\n",
       "\n",
       "    .colab-df-convert:hover {\n",
       "      background-color: #E2EBFA;\n",
       "      box-shadow: 0px 1px 2px rgba(60, 64, 67, 0.3), 0px 1px 3px 1px rgba(60, 64, 67, 0.15);\n",
       "      fill: #174EA6;\n",
       "    }\n",
       "\n",
       "    [theme=dark] .colab-df-convert {\n",
       "      background-color: #3B4455;\n",
       "      fill: #D2E3FC;\n",
       "    }\n",
       "\n",
       "    [theme=dark] .colab-df-convert:hover {\n",
       "      background-color: #434B5C;\n",
       "      box-shadow: 0px 1px 3px 1px rgba(0, 0, 0, 0.15);\n",
       "      filter: drop-shadow(0px 1px 2px rgba(0, 0, 0, 0.3));\n",
       "      fill: #FFFFFF;\n",
       "    }\n",
       "  </style>\n",
       "\n",
       "      <script>\n",
       "        const buttonEl =\n",
       "          document.querySelector('#df-2b52b4f7-8695-4c56-89bc-4b7920731bfd button.colab-df-convert');\n",
       "        buttonEl.style.display =\n",
       "          google.colab.kernel.accessAllowed ? 'block' : 'none';\n",
       "\n",
       "        async function convertToInteractive(key) {\n",
       "          const element = document.querySelector('#df-2b52b4f7-8695-4c56-89bc-4b7920731bfd');\n",
       "          const dataTable =\n",
       "            await google.colab.kernel.invokeFunction('convertToInteractive',\n",
       "                                                     [key], {});\n",
       "          if (!dataTable) return;\n",
       "\n",
       "          const docLinkHtml = 'Like what you see? Visit the ' +\n",
       "            '<a target=\"_blank\" href=https://colab.research.google.com/notebooks/data_table.ipynb>data table notebook</a>'\n",
       "            + ' to learn more about interactive tables.';\n",
       "          element.innerHTML = '';\n",
       "          dataTable['output_type'] = 'display_data';\n",
       "          await google.colab.output.renderOutput(dataTable, element);\n",
       "          const docLink = document.createElement('div');\n",
       "          docLink.innerHTML = docLinkHtml;\n",
       "          element.appendChild(docLink);\n",
       "        }\n",
       "      </script>\n",
       "    </div>\n",
       "  </div>\n",
       "  "
      ],
      "text/plain": [
       "    Coefficient                   features\n",
       "15  -115.737788                entropy_fie\n",
       "76   -72.628918        wtd_entropy_Valence\n",
       "5    -34.236296        entropy_atomic_mass\n",
       "74   -29.545704          wtd_gmean_Valence\n",
       "80   -26.456219            wtd_std_Valence\n",
       "..          ...                        ...\n",
       "72    25.170008           wtd_mean_Valence\n",
       "16    45.237762            wtd_entropy_fie\n",
       "26    50.378731  wtd_entropy_atomic_radius\n",
       "25    63.366952      entropy_atomic_radius\n",
       "75    80.820792            entropy_Valence\n",
       "\n",
       "[81 rows x 2 columns]"
      ]
     },
     "execution_count": 26,
     "metadata": {},
     "output_type": "execute_result"
    }
   ],
   "source": [
    "coeff_df = pd.DataFrame(model.coef_, columns=['Coefficient'])  \n",
    "coeff_df['features'] = features\n",
    "\n",
    "coeff_df.sort_values(by='Coefficient')"
   ]
  },
  {
   "cell_type": "code",
   "execution_count": null,
   "metadata": {
    "id": "cF9B8wEkgv8j"
   },
   "outputs": [],
   "source": [
    "cols_drop = list(coeff_df[(coeff_df['Coefficient'] > -1) & (coeff_df['Coefficient'] < 1)]['features'])"
   ]
  },
  {
   "cell_type": "code",
   "execution_count": 1,
   "metadata": {
    "id": "BOcN5gr2gmKg"
   },
   "outputs": [
    {
     "ename": "NameError",
     "evalue": "name 'X' is not defined",
     "output_type": "error",
     "traceback": [
      "\u001b[1;31m---------------------------------------------------------------------------\u001b[0m",
      "\u001b[1;31mNameError\u001b[0m                                 Traceback (most recent call last)",
      "\u001b[1;32m~\\AppData\\Local\\Temp\\ipykernel_15508\\2449683973.py\u001b[0m in \u001b[0;36m<module>\u001b[1;34m\u001b[0m\n\u001b[1;32m----> 1\u001b[1;33m \u001b[0mX\u001b[0m \u001b[1;33m=\u001b[0m \u001b[0mX\u001b[0m\u001b[1;33m.\u001b[0m\u001b[0mdrop\u001b[0m\u001b[1;33m(\u001b[0m\u001b[0mcolumns\u001b[0m\u001b[1;33m=\u001b[0m\u001b[0mcols_drop\u001b[0m\u001b[1;33m)\u001b[0m\u001b[1;33m\u001b[0m\u001b[1;33m\u001b[0m\u001b[0m\n\u001b[0m",
      "\u001b[1;31mNameError\u001b[0m: name 'X' is not defined"
     ]
    }
   ],
   "source": [
    "X = X.drop(columns=cols_drop)"
   ]
  },
  {
   "cell_type": "code",
   "execution_count": null,
   "metadata": {
    "colab": {
     "base_uri": "https://localhost:8080/"
    },
    "id": "CXThmevqi4fN",
    "outputId": "ae322055-a4bc-4be5-f20e-a25ba1b5f8ff"
   },
   "outputs": [
    {
     "name": "stdout",
     "output_type": "stream",
     "text": [
      "Train dataset size: (14458, 31), (14458,)\n",
      "Train dataset size: (2552, 31), (2552,)\n",
      "Mean Absolute Error: 16.127728001931853\n",
      "Mean Squared Error: 418.96608915479675\n",
      "r2_score: 0.6355998215896455\n"
     ]
    }
   ],
   "source": [
    "from sklearn.model_selection import train_test_split\n",
    "from sklearn.preprocessing import MinMaxScaler, StandardScaler\n",
    "\n",
    "std = StandardScaler()\n",
    "X_std = std.fit_transform(X)\n",
    "\n",
    "X_train, X_test, y_train, y_test = train_test_split(X_std, y, test_size=0.15, random_state=123)\n",
    "\n",
    "print(f'Train dataset size: {X_train.shape}, {y_train.shape}')\n",
    "print(f'Train dataset size: {X_test.shape}, {y_test.shape}')\n",
    "\n",
    "# Создадим модель линейной регрессии\n",
    "model = LinearRegression()\n",
    "\n",
    "# Обучим линейную регрессию на тренировочном стандартизированном наборе данных \n",
    "# На этапе обучения алгоритм рассчитывает веса признаков и строит линейное уравнение регрессии \n",
    "model.fit(X_train, y_train)\n",
    "\n",
    "y_pred = model.predict(X_test)\n",
    "\n",
    "print('Mean Absolute Error:', mean_absolute_error(y_test, y_pred))\n",
    "print('Mean Squared Error:', mean_squared_error(y_test, y_pred))\n",
    "print('r2_score:', r2_score(y_test, y_pred))"
   ]
  },
  {
   "cell_type": "markdown",
   "metadata": {
    "id": "0HSAzThcVkuy"
   },
   "source": [
    "## Предсказание ответа для тестового набора данных"
   ]
  },
  {
   "cell_type": "code",
   "execution_count": null,
   "metadata": {
    "id": "lGb-osVpjHtb"
   },
   "outputs": [],
   "source": [
    "test_full = test_full.drop(columns=cols_drop)"
   ]
  },
  {
   "cell_type": "code",
   "execution_count": null,
   "metadata": {
    "colab": {
     "base_uri": "https://localhost:8080/"
    },
    "id": "w63mU0WwwKa5",
    "outputId": "d29453dc-8fe4-41ee-fad9-bd7bf5ed15e3"
   },
   "outputs": [
    {
     "data": {
      "text/plain": [
       "(4253, 27)"
      ]
     },
     "execution_count": 94,
     "metadata": {},
     "output_type": "execute_result"
    }
   ],
   "source": [
    "test.shape"
   ]
  },
  {
   "cell_type": "code",
   "execution_count": null,
   "metadata": {
    "id": "iEKTIFRAxPBC"
   },
   "outputs": [],
   "source": [
    "X_test_std = std.transform(test_full)"
   ]
  },
  {
   "cell_type": "code",
   "execution_count": null,
   "metadata": {
    "colab": {
     "base_uri": "https://localhost:8080/"
    },
    "id": "whT7jghwws0U",
    "outputId": "2dd85e5e-3ed9-407c-bd25-ed3231864c8c"
   },
   "outputs": [
    {
     "data": {
      "text/plain": [
       "(4253, 167)"
      ]
     },
     "execution_count": 123,
     "metadata": {},
     "output_type": "execute_result"
    }
   ],
   "source": [
    "test_full.shape"
   ]
  },
  {
   "cell_type": "code",
   "execution_count": null,
   "metadata": {
    "id": "YmOh4F_uVoqO"
   },
   "outputs": [],
   "source": [
    "y_pred_test = model.predict(test_full)"
   ]
  },
  {
   "cell_type": "code",
   "execution_count": null,
   "metadata": {
    "colab": {
     "base_uri": "https://localhost:8080/",
     "height": 17
    },
    "id": "fez-v4XSWXZ2",
    "outputId": "7b1d4daf-08ce-4415-9075-6e03ecf9612d"
   },
   "outputs": [
    {
     "data": {
      "application/javascript": [
       "\n",
       "    async function download(id, filename, size) {\n",
       "      if (!google.colab.kernel.accessAllowed) {\n",
       "        return;\n",
       "      }\n",
       "      const div = document.createElement('div');\n",
       "      const label = document.createElement('label');\n",
       "      label.textContent = `Downloading \"${filename}\": `;\n",
       "      div.appendChild(label);\n",
       "      const progress = document.createElement('progress');\n",
       "      progress.max = size;\n",
       "      div.appendChild(progress);\n",
       "      document.body.appendChild(div);\n",
       "\n",
       "      const buffers = [];\n",
       "      let downloaded = 0;\n",
       "\n",
       "      const channel = await google.colab.kernel.comms.open(id);\n",
       "      // Send a message to notify the kernel that we're ready.\n",
       "      channel.send({})\n",
       "\n",
       "      for await (const message of channel.messages) {\n",
       "        // Send a message to notify the kernel that we're ready.\n",
       "        channel.send({})\n",
       "        if (message.buffers) {\n",
       "          for (const buffer of message.buffers) {\n",
       "            buffers.push(buffer);\n",
       "            downloaded += buffer.byteLength;\n",
       "            progress.value = downloaded;\n",
       "          }\n",
       "        }\n",
       "      }\n",
       "      const blob = new Blob(buffers, {type: 'application/binary'});\n",
       "      const a = document.createElement('a');\n",
       "      a.href = window.URL.createObjectURL(blob);\n",
       "      a.download = filename;\n",
       "      div.appendChild(a);\n",
       "      a.click();\n",
       "      div.remove();\n",
       "    }\n",
       "  "
      ],
      "text/plain": [
       "<IPython.core.display.Javascript object>"
      ]
     },
     "metadata": {},
     "output_type": "display_data"
    },
    {
     "data": {
      "application/javascript": [
       "download(\"download_015f93e5-090a-4b51-8307-95d79c26ff9b\", \"solution.csv\", 98365)"
      ],
      "text/plain": [
       "<IPython.core.display.Javascript object>"
      ]
     },
     "metadata": {},
     "output_type": "display_data"
    }
   ],
   "source": [
    "from google.colab import files\n",
    "y_pred_test = pd.DataFrame(y_pred_test, columns=['critical_temp'])\n",
    "y_pred_test = y_pred_test.reset_index()\n",
    "\n",
    "y_pred_test.to_csv(\"solution.csv\", index=False)\n",
    "\n",
    "files.download(\"solution.csv\")"
   ]
  }
 ],
 "metadata": {
  "colab": {
   "provenance": []
  },
  "kernelspec": {
   "display_name": "Python 3 (ipykernel)",
   "language": "python",
   "name": "python3"
  },
  "language_info": {
   "codemirror_mode": {
    "name": "ipython",
    "version": 3
   },
   "file_extension": ".py",
   "mimetype": "text/x-python",
   "name": "python",
   "nbconvert_exporter": "python",
   "pygments_lexer": "ipython3",
   "version": "3.9.13"
  }
 },
 "nbformat": 4,
 "nbformat_minor": 1
}
